{
 "cells": [
  {
   "cell_type": "code",
   "execution_count": 1,
   "id": "598e4673-4174-4aa3-907f-5e40149ea024",
   "metadata": {
    "execution": {
     "iopub.execute_input": "2024-09-01T07:21:00.426129Z",
     "iopub.status.busy": "2024-09-01T07:21:00.425130Z",
     "iopub.status.idle": "2024-09-01T07:21:00.671581Z",
     "shell.execute_reply": "2024-09-01T07:21:00.669576Z",
     "shell.execute_reply.started": "2024-09-01T07:21:00.426129Z"
    }
   },
   "outputs": [],
   "source": [
    "import numpy as np"
   ]
  },
  {
   "cell_type": "code",
   "execution_count": 2,
   "id": "11ce8163-9bc6-4315-b118-ba87b3042d09",
   "metadata": {
    "execution": {
     "iopub.execute_input": "2024-09-01T07:21:01.318576Z",
     "iopub.status.busy": "2024-09-01T07:21:01.318576Z",
     "iopub.status.idle": "2024-09-01T07:21:02.120219Z",
     "shell.execute_reply": "2024-09-01T07:21:02.119197Z",
     "shell.execute_reply.started": "2024-09-01T07:21:01.318576Z"
    }
   },
   "outputs": [],
   "source": [
    "from numba import njit, prange"
   ]
  },
  {
   "cell_type": "code",
   "execution_count": 3,
   "id": "c00462a6-a06b-4d7c-8cd0-ef4f3dcdfae9",
   "metadata": {
    "execution": {
     "iopub.execute_input": "2024-09-01T07:21:02.124195Z",
     "iopub.status.busy": "2024-09-01T07:21:02.123195Z",
     "iopub.status.idle": "2024-09-01T07:21:02.137424Z",
     "shell.execute_reply": "2024-09-01T07:21:02.134394Z",
     "shell.execute_reply.started": "2024-09-01T07:21:02.124195Z"
    }
   },
   "outputs": [],
   "source": [
    "def range_test(A):\n",
    "    s = 0.0\n",
    "    for i in range(A.shape[0]):\n",
    "        s += A[i]/(1.0+A[i]**2)\n",
    "    return s"
   ]
  },
  {
   "cell_type": "code",
   "execution_count": 4,
   "id": "452e52e9-6700-431c-b032-565fbb49d4a3",
   "metadata": {
    "execution": {
     "iopub.execute_input": "2024-09-01T07:21:02.163413Z",
     "iopub.status.busy": "2024-09-01T07:21:02.162413Z",
     "iopub.status.idle": "2024-09-01T07:21:02.182416Z",
     "shell.execute_reply": "2024-09-01T07:21:02.180413Z",
     "shell.execute_reply.started": "2024-09-01T07:21:02.163413Z"
    }
   },
   "outputs": [
    {
     "data": {
      "text/plain": [
       "array([0.000e+00, 1.000e+00, 2.000e+00, ..., 9.997e+03, 9.998e+03,\n",
       "       9.999e+03])"
      ]
     },
     "execution_count": 4,
     "metadata": {},
     "output_type": "execute_result"
    }
   ],
   "source": [
    "B = np.arange(10000).astype(np.float64)\n",
    "B"
   ]
  },
  {
   "cell_type": "code",
   "execution_count": 5,
   "id": "a6c6605e-4b32-48f4-8d2d-95506268475c",
   "metadata": {
    "execution": {
     "iopub.execute_input": "2024-09-01T07:21:02.568180Z",
     "iopub.status.busy": "2024-09-01T07:21:02.567180Z",
     "iopub.status.idle": "2024-09-01T07:21:11.273853Z",
     "shell.execute_reply": "2024-09-01T07:21:11.272828Z",
     "shell.execute_reply.started": "2024-09-01T07:21:02.568180Z"
    }
   },
   "outputs": [
    {
     "name": "stdout",
     "output_type": "stream",
     "text": [
      "10.6 ms ± 155 µs per loop (mean ± std. dev. of 7 runs, 100 loops each)\n"
     ]
    }
   ],
   "source": [
    "%timeit range_test(B)"
   ]
  },
  {
   "cell_type": "code",
   "execution_count": 6,
   "id": "e2598e35-6a95-4fde-b803-c89ea29a2440",
   "metadata": {
    "execution": {
     "iopub.execute_input": "2024-09-01T07:21:11.278300Z",
     "iopub.status.busy": "2024-09-01T07:21:11.276828Z",
     "iopub.status.idle": "2024-09-01T07:21:11.304680Z",
     "shell.execute_reply": "2024-09-01T07:21:11.302687Z",
     "shell.execute_reply.started": "2024-09-01T07:21:11.278300Z"
    }
   },
   "outputs": [],
   "source": [
    "@njit(parallel=True)\n",
    "def prange_test(A):\n",
    "    s = 0.0\n",
    "    for i in prange(A.shape[0]):\n",
    "        s += A[i]/(1.0+A[i]**2)\n",
    "    return s"
   ]
  },
  {
   "cell_type": "code",
   "execution_count": 7,
   "id": "aabc4382-71d6-4f56-91fe-02a2bcd1c924",
   "metadata": {
    "execution": {
     "iopub.execute_input": "2024-09-01T07:21:11.306680Z",
     "iopub.status.busy": "2024-09-01T07:21:11.306680Z",
     "iopub.status.idle": "2024-09-01T07:21:13.495965Z",
     "shell.execute_reply": "2024-09-01T07:21:13.494969Z",
     "shell.execute_reply.started": "2024-09-01T07:21:11.306680Z"
    }
   },
   "outputs": [
    {
     "name": "stdout",
     "output_type": "stream",
     "text": [
      "126 µs ± 55 µs per loop (mean ± std. dev. of 7 runs, 1 loop each)\n"
     ]
    }
   ],
   "source": [
    "%timeit prange_test(B)"
   ]
  },
  {
   "cell_type": "code",
   "execution_count": null,
   "id": "22c01b6e-08d5-4e0f-b10a-e7703a33e819",
   "metadata": {},
   "outputs": [],
   "source": []
  }
 ],
 "metadata": {
  "kernelspec": {
   "display_name": "Python 3 (ipykernel)",
   "language": "python",
   "name": "python3"
  },
  "language_info": {
   "codemirror_mode": {
    "name": "ipython",
    "version": 3
   },
   "file_extension": ".py",
   "mimetype": "text/x-python",
   "name": "python",
   "nbconvert_exporter": "python",
   "pygments_lexer": "ipython3",
   "version": "3.11.5"
  }
 },
 "nbformat": 4,
 "nbformat_minor": 5
}
