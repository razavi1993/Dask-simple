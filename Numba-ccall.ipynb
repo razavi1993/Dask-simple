{
 "cells": [
  {
   "cell_type": "code",
   "execution_count": 1,
   "id": "824ebd15-216c-4154-bcab-e2746278dc0e",
   "metadata": {
    "execution": {
     "iopub.execute_input": "2024-09-01T08:47:18.859937Z",
     "iopub.status.busy": "2024-09-01T08:47:18.858933Z",
     "iopub.status.idle": "2024-09-01T08:47:19.142282Z",
     "shell.execute_reply": "2024-09-01T08:47:19.141283Z",
     "shell.execute_reply.started": "2024-09-01T08:47:18.859937Z"
    }
   },
   "outputs": [],
   "source": [
    "import numpy as np"
   ]
  },
  {
   "cell_type": "code",
   "execution_count": 2,
   "id": "06760eae-1c28-48f1-9c9c-5b2eb75da01a",
   "metadata": {
    "execution": {
     "iopub.execute_input": "2024-09-01T08:47:19.283284Z",
     "iopub.status.busy": "2024-09-01T08:47:19.282283Z",
     "iopub.status.idle": "2024-09-01T08:47:19.320371Z",
     "shell.execute_reply": "2024-09-01T08:47:19.318379Z",
     "shell.execute_reply.started": "2024-09-01T08:47:19.283284Z"
    }
   },
   "outputs": [],
   "source": [
    "import scipy as sp"
   ]
  },
  {
   "cell_type": "code",
   "execution_count": 3,
   "id": "7c04a100-d486-4bd6-a23a-3c891417f9a7",
   "metadata": {
    "execution": {
     "iopub.execute_input": "2024-09-01T08:47:19.736148Z",
     "iopub.status.busy": "2024-09-01T08:47:19.735145Z",
     "iopub.status.idle": "2024-09-01T08:47:20.416337Z",
     "shell.execute_reply": "2024-09-01T08:47:20.415331Z",
     "shell.execute_reply.started": "2024-09-01T08:47:19.736148Z"
    }
   },
   "outputs": [],
   "source": [
    "from numba import cfunc"
   ]
  },
  {
   "cell_type": "code",
   "execution_count": 4,
   "id": "001e6a01-9788-49a4-aa19-49a90e7fa94a",
   "metadata": {
    "execution": {
     "iopub.execute_input": "2024-09-01T08:47:20.420331Z",
     "iopub.status.busy": "2024-09-01T08:47:20.419337Z",
     "iopub.status.idle": "2024-09-01T08:47:21.408036Z",
     "shell.execute_reply": "2024-09-01T08:47:21.405035Z",
     "shell.execute_reply.started": "2024-09-01T08:47:20.420331Z"
    }
   },
   "outputs": [],
   "source": [
    "@cfunc(\"float64(float64, float64)\")\n",
    "def mul(x, y):\n",
    "    return x*y"
   ]
  },
  {
   "cell_type": "code",
   "execution_count": 5,
   "id": "0f8abade-35f9-4d48-8dd2-c91b5564720e",
   "metadata": {
    "execution": {
     "iopub.execute_input": "2024-09-01T08:47:21.412031Z",
     "iopub.status.busy": "2024-09-01T08:47:21.411033Z",
     "iopub.status.idle": "2024-09-01T08:47:21.420114Z",
     "shell.execute_reply": "2024-09-01T08:47:21.419099Z",
     "shell.execute_reply.started": "2024-09-01T08:47:21.412031Z"
    }
   },
   "outputs": [
    {
     "name": "stdout",
     "output_type": "stream",
     "text": [
      "3.6\n"
     ]
    }
   ],
   "source": [
    "print(mul.ctypes(4.5, 0.8))"
   ]
  },
  {
   "cell_type": "code",
   "execution_count": 6,
   "id": "3685f6fa-8eaa-42fd-bb1c-b5ed559dfdc8",
   "metadata": {
    "execution": {
     "iopub.execute_input": "2024-09-01T08:47:21.425114Z",
     "iopub.status.busy": "2024-09-01T08:47:21.423118Z",
     "iopub.status.idle": "2024-09-01T08:47:21.948490Z",
     "shell.execute_reply": "2024-09-01T08:47:21.947494Z",
     "shell.execute_reply.started": "2024-09-01T08:47:21.425114Z"
    }
   },
   "outputs": [],
   "source": [
    "@cfunc(\"float64(float64, float64, float64)\")\n",
    "def my_func(x, y, z):\n",
    "    return x*y + z**2 + z/(1+x**2+y**2)"
   ]
  },
  {
   "cell_type": "code",
   "execution_count": 7,
   "id": "ccc3b27a-429e-42b4-8155-285db765f82d",
   "metadata": {
    "execution": {
     "iopub.execute_input": "2024-09-01T08:47:21.952496Z",
     "iopub.status.busy": "2024-09-01T08:47:21.951492Z",
     "iopub.status.idle": "2024-09-01T08:47:21.963249Z",
     "shell.execute_reply": "2024-09-01T08:47:21.961252Z",
     "shell.execute_reply.started": "2024-09-01T08:47:21.952496Z"
    }
   },
   "outputs": [
    {
     "name": "stdout",
     "output_type": "stream",
     "text": [
      "21.023809523809526\n"
     ]
    }
   ],
   "source": [
    "print(my_func.ctypes(4.0, 5.0, 1.0))"
   ]
  },
  {
   "cell_type": "code",
   "execution_count": 8,
   "id": "9352fee3-d014-48a3-a1c7-91f6b61c1b8e",
   "metadata": {
    "execution": {
     "iopub.execute_input": "2024-09-01T08:47:22.242920Z",
     "iopub.status.busy": "2024-09-01T08:47:22.240928Z",
     "iopub.status.idle": "2024-09-01T08:47:22.350983Z",
     "shell.execute_reply": "2024-09-01T08:47:22.346964Z",
     "shell.execute_reply.started": "2024-09-01T08:47:22.242920Z"
    }
   },
   "outputs": [],
   "source": [
    "@cfunc(\"float64(float64)\")\n",
    "def area(r):\n",
    "    return np.pi*r**2"
   ]
  },
  {
   "cell_type": "code",
   "execution_count": 9,
   "id": "2fa202fb-1808-4047-a645-1f299c870aa7",
   "metadata": {
    "execution": {
     "iopub.execute_input": "2024-09-01T08:47:22.750246Z",
     "iopub.status.busy": "2024-09-01T08:47:22.748247Z",
     "iopub.status.idle": "2024-09-01T08:47:22.760591Z",
     "shell.execute_reply": "2024-09-01T08:47:22.757593Z",
     "shell.execute_reply.started": "2024-09-01T08:47:22.749246Z"
    }
   },
   "outputs": [
    {
     "name": "stdout",
     "output_type": "stream",
     "text": [
      "0.7853981633974483\n"
     ]
    }
   ],
   "source": [
    "print(area.ctypes(0.5))"
   ]
  },
  {
   "cell_type": "code",
   "execution_count": 10,
   "id": "082a0979-2a2c-4914-82e4-e4f7383143bc",
   "metadata": {
    "execution": {
     "iopub.execute_input": "2024-09-01T08:47:23.270676Z",
     "iopub.status.busy": "2024-09-01T08:47:23.269703Z",
     "iopub.status.idle": "2024-09-01T08:47:23.280205Z",
     "shell.execute_reply": "2024-09-01T08:47:23.278212Z",
     "shell.execute_reply.started": "2024-09-01T08:47:23.270676Z"
    }
   },
   "outputs": [],
   "source": [
    "def my_second_func(x):\n",
    "    return x**5"
   ]
  },
  {
   "cell_type": "code",
   "execution_count": 11,
   "id": "2c93c209-f91a-4511-887e-daebe92f47b3",
   "metadata": {
    "execution": {
     "iopub.execute_input": "2024-09-01T08:47:23.799770Z",
     "iopub.status.busy": "2024-09-01T08:47:23.798780Z",
     "iopub.status.idle": "2024-09-01T08:47:23.873977Z",
     "shell.execute_reply": "2024-09-01T08:47:23.870975Z",
     "shell.execute_reply.started": "2024-09-01T08:47:23.799770Z"
    }
   },
   "outputs": [],
   "source": [
    "nb_my_second_func = cfunc(\"float64(float64)\")(my_second_func)"
   ]
  },
  {
   "cell_type": "code",
   "execution_count": 12,
   "id": "6ca35751-68f0-4192-b882-c5fe1d1fee44",
   "metadata": {
    "execution": {
     "iopub.execute_input": "2024-09-01T08:47:24.320489Z",
     "iopub.status.busy": "2024-09-01T08:47:24.319510Z",
     "iopub.status.idle": "2024-09-01T08:47:24.330047Z",
     "shell.execute_reply": "2024-09-01T08:47:24.328050Z",
     "shell.execute_reply.started": "2024-09-01T08:47:24.320489Z"
    }
   },
   "outputs": [],
   "source": [
    "def do_integration(func):\n",
    "    return sp.integrate.quad(func, 0., 1.)"
   ]
  },
  {
   "cell_type": "code",
   "execution_count": 13,
   "id": "37fe517f-d49a-458e-8057-6fd9f35bb2a6",
   "metadata": {
    "execution": {
     "iopub.execute_input": "2024-09-01T08:47:24.909651Z",
     "iopub.status.busy": "2024-09-01T08:47:24.909651Z",
     "iopub.status.idle": "2024-09-01T08:47:25.261022Z",
     "shell.execute_reply": "2024-09-01T08:47:25.260025Z",
     "shell.execute_reply.started": "2024-09-01T08:47:24.909651Z"
    }
   },
   "outputs": [
    {
     "data": {
      "text/plain": [
       "(0.16666666666666669, 1.8503717077085944e-15)"
      ]
     },
     "execution_count": 13,
     "metadata": {},
     "output_type": "execute_result"
    }
   ],
   "source": [
    "do_integration(my_second_func)"
   ]
  },
  {
   "cell_type": "code",
   "execution_count": 14,
   "id": "0e2e26de-6fe2-4bbd-9f04-b49a301741ce",
   "metadata": {
    "execution": {
     "iopub.execute_input": "2024-09-01T08:47:25.567237Z",
     "iopub.status.busy": "2024-09-01T08:47:25.567237Z",
     "iopub.status.idle": "2024-09-01T08:47:25.580071Z",
     "shell.execute_reply": "2024-09-01T08:47:25.578079Z",
     "shell.execute_reply.started": "2024-09-01T08:47:25.567237Z"
    }
   },
   "outputs": [
    {
     "data": {
      "text/plain": [
       "(0.16666666666666669, 1.8503717077085944e-15)"
      ]
     },
     "execution_count": 14,
     "metadata": {},
     "output_type": "execute_result"
    }
   ],
   "source": [
    "do_integration(nb_my_second_func.ctypes)"
   ]
  },
  {
   "cell_type": "code",
   "execution_count": null,
   "id": "db2d45f9-3e81-4fc2-a62d-ffccd3ed33c1",
   "metadata": {},
   "outputs": [],
   "source": []
  }
 ],
 "metadata": {
  "kernelspec": {
   "display_name": "Python 3 (ipykernel)",
   "language": "python",
   "name": "python3"
  },
  "language_info": {
   "codemirror_mode": {
    "name": "ipython",
    "version": 3
   },
   "file_extension": ".py",
   "mimetype": "text/x-python",
   "name": "python",
   "nbconvert_exporter": "python",
   "pygments_lexer": "ipython3",
   "version": "3.11.5"
  }
 },
 "nbformat": 4,
 "nbformat_minor": 5
}
