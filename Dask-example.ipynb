{
 "cells": [
  {
   "cell_type": "code",
   "execution_count": 1,
   "id": "addb748a-b732-4253-930a-fa15d9d7b31b",
   "metadata": {
    "execution": {
     "iopub.execute_input": "2024-08-31T19:32:09.721492Z",
     "iopub.status.busy": "2024-08-31T19:32:09.720492Z",
     "iopub.status.idle": "2024-08-31T19:32:10.168584Z",
     "shell.execute_reply": "2024-08-31T19:32:10.167562Z",
     "shell.execute_reply.started": "2024-08-31T19:32:09.721492Z"
    }
   },
   "outputs": [],
   "source": [
    "import dask.bag as db"
   ]
  },
  {
   "cell_type": "code",
   "execution_count": 2,
   "id": "3fd639ec-13b9-4165-b4ec-0c6db35969a7",
   "metadata": {
    "execution": {
     "iopub.execute_input": "2024-08-31T19:32:10.338095Z",
     "iopub.status.busy": "2024-08-31T19:32:10.337117Z",
     "iopub.status.idle": "2024-08-31T19:32:10.344666Z",
     "shell.execute_reply": "2024-08-31T19:32:10.343649Z",
     "shell.execute_reply.started": "2024-08-31T19:32:10.338095Z"
    }
   },
   "outputs": [],
   "source": [
    "numbers = db.from_sequence(range(20))"
   ]
  },
  {
   "cell_type": "code",
   "execution_count": 3,
   "id": "2da0cb72-2449-453c-b5ed-59f67361edec",
   "metadata": {
    "execution": {
     "iopub.execute_input": "2024-08-31T19:32:10.868925Z",
     "iopub.status.busy": "2024-08-31T19:32:10.867924Z",
     "iopub.status.idle": "2024-08-31T19:32:10.878177Z",
     "shell.execute_reply": "2024-08-31T19:32:10.876159Z",
     "shell.execute_reply.started": "2024-08-31T19:32:10.868925Z"
    }
   },
   "outputs": [],
   "source": [
    "new_numbers = numbers.map(lambda x: x**3+5)"
   ]
  },
  {
   "cell_type": "code",
   "execution_count": 4,
   "id": "c9834deb-db87-4966-a379-a8fa77f453d8",
   "metadata": {
    "execution": {
     "iopub.execute_input": "2024-08-31T19:32:11.390964Z",
     "iopub.status.busy": "2024-08-31T19:32:11.389963Z",
     "iopub.status.idle": "2024-08-31T19:32:11.399713Z",
     "shell.execute_reply": "2024-08-31T19:32:11.398690Z",
     "shell.execute_reply.started": "2024-08-31T19:32:11.390964Z"
    }
   },
   "outputs": [],
   "source": [
    "filtered_numbers = new_numbers.filter(lambda y: y % 5 == 0)"
   ]
  },
  {
   "cell_type": "code",
   "execution_count": 5,
   "id": "795abe7b-6dac-41a5-ab16-3cbbeeaf4866",
   "metadata": {
    "execution": {
     "iopub.execute_input": "2024-08-31T19:32:11.890285Z",
     "iopub.status.busy": "2024-08-31T19:32:11.889294Z",
     "iopub.status.idle": "2024-08-31T19:32:13.026217Z",
     "shell.execute_reply": "2024-08-31T19:32:13.025202Z",
     "shell.execute_reply.started": "2024-08-31T19:32:11.890285Z"
    }
   },
   "outputs": [
    {
     "data": {
      "text/plain": [
       "[5, 130, 1005, 3380]"
      ]
     },
     "execution_count": 5,
     "metadata": {},
     "output_type": "execute_result"
    }
   ],
   "source": [
    "filtered_numbers.compute()"
   ]
  },
  {
   "cell_type": "code",
   "execution_count": 6,
   "id": "4130024e-9a26-4a96-bf6f-b5f623b3a650",
   "metadata": {
    "execution": {
     "iopub.execute_input": "2024-08-31T19:32:13.030223Z",
     "iopub.status.busy": "2024-08-31T19:32:13.029223Z",
     "iopub.status.idle": "2024-08-31T19:32:14.017403Z",
     "shell.execute_reply": "2024-08-31T19:32:14.016384Z",
     "shell.execute_reply.started": "2024-08-31T19:32:13.030223Z"
    }
   },
   "outputs": [],
   "source": [
    "import dask.array as da"
   ]
  },
  {
   "cell_type": "code",
   "execution_count": 7,
   "id": "0e25ef44-d94d-4ace-966a-2d52c1cd879a",
   "metadata": {
    "execution": {
     "iopub.execute_input": "2024-08-31T19:32:14.020401Z",
     "iopub.status.busy": "2024-08-31T19:32:14.019400Z",
     "iopub.status.idle": "2024-08-31T19:32:14.029592Z",
     "shell.execute_reply": "2024-08-31T19:32:14.026569Z",
     "shell.execute_reply.started": "2024-08-31T19:32:14.020401Z"
    }
   },
   "outputs": [],
   "source": [
    "import numpy as np"
   ]
  },
  {
   "cell_type": "code",
   "execution_count": 8,
   "id": "859fb369-e711-482b-9cae-2a4a8319f199",
   "metadata": {
    "execution": {
     "iopub.execute_input": "2024-08-31T19:32:14.115174Z",
     "iopub.status.busy": "2024-08-31T19:32:14.114169Z",
     "iopub.status.idle": "2024-08-31T19:32:14.129925Z",
     "shell.execute_reply": "2024-08-31T19:32:14.128905Z",
     "shell.execute_reply.started": "2024-08-31T19:32:14.115174Z"
    }
   },
   "outputs": [],
   "source": [
    "x = da.random.random((10000, 10000), chunks=(1000,1000))"
   ]
  },
  {
   "cell_type": "code",
   "execution_count": 9,
   "id": "6b45e311-596a-43d1-ad05-4efc9208791b",
   "metadata": {
    "execution": {
     "iopub.execute_input": "2024-08-31T19:32:14.713833Z",
     "iopub.status.busy": "2024-08-31T19:32:14.712833Z",
     "iopub.status.idle": "2024-08-31T19:32:14.724111Z",
     "shell.execute_reply": "2024-08-31T19:32:14.723096Z",
     "shell.execute_reply.started": "2024-08-31T19:32:14.713833Z"
    }
   },
   "outputs": [],
   "source": [
    "y = np.exp(x)"
   ]
  },
  {
   "cell_type": "code",
   "execution_count": 10,
   "id": "69259dc1-170b-4680-8091-aad6c638ce61",
   "metadata": {
    "execution": {
     "iopub.execute_input": "2024-08-31T19:32:15.355369Z",
     "iopub.status.busy": "2024-08-31T19:32:15.354370Z",
     "iopub.status.idle": "2024-08-31T19:32:16.469923Z",
     "shell.execute_reply": "2024-08-31T19:32:16.468903Z",
     "shell.execute_reply.started": "2024-08-31T19:32:15.355369Z"
    }
   },
   "outputs": [
    {
     "data": {
      "text/plain": [
       "np.float64(1.7183762354207728)"
      ]
     },
     "execution_count": 10,
     "metadata": {},
     "output_type": "execute_result"
    }
   ],
   "source": [
    "y.mean().compute()"
   ]
  }
 ],
 "metadata": {
  "kernelspec": {
   "display_name": "Python 3 (ipykernel)",
   "language": "python",
   "name": "python3"
  },
  "language_info": {
   "codemirror_mode": {
    "name": "ipython",
    "version": 3
   },
   "file_extension": ".py",
   "mimetype": "text/x-python",
   "name": "python",
   "nbconvert_exporter": "python",
   "pygments_lexer": "ipython3",
   "version": "3.12.5"
  }
 },
 "nbformat": 4,
 "nbformat_minor": 5
}
