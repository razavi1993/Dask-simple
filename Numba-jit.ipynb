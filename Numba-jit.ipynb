{
 "cells": [
  {
   "cell_type": "code",
   "execution_count": 1,
   "id": "7bfaba35-0a7a-4cd9-88d0-9ca523b95d95",
   "metadata": {
    "execution": {
     "iopub.execute_input": "2024-09-01T06:54:36.488533Z",
     "iopub.status.busy": "2024-09-01T06:54:36.486535Z",
     "iopub.status.idle": "2024-09-01T06:54:37.365523Z",
     "shell.execute_reply": "2024-09-01T06:54:37.364523Z",
     "shell.execute_reply.started": "2024-09-01T06:54:36.488533Z"
    }
   },
   "outputs": [],
   "source": [
    "from numba import jit"
   ]
  },
  {
   "cell_type": "code",
   "execution_count": 2,
   "id": "e421b759-1792-441f-ab23-3c7be00ca389",
   "metadata": {
    "execution": {
     "iopub.execute_input": "2024-09-01T06:54:37.376526Z",
     "iopub.status.busy": "2024-09-01T06:54:37.375528Z",
     "iopub.status.idle": "2024-09-01T06:54:37.386714Z",
     "shell.execute_reply": "2024-09-01T06:54:37.384720Z",
     "shell.execute_reply.started": "2024-09-01T06:54:37.376526Z"
    }
   },
   "outputs": [],
   "source": [
    "import numpy as np"
   ]
  },
  {
   "cell_type": "code",
   "execution_count": 3,
   "id": "e020c55e-1973-4069-9884-849e61548c84",
   "metadata": {
    "execution": {
     "iopub.execute_input": "2024-09-01T06:54:37.393715Z",
     "iopub.status.busy": "2024-09-01T06:54:37.391714Z",
     "iopub.status.idle": "2024-09-01T06:54:37.406302Z",
     "shell.execute_reply": "2024-09-01T06:54:37.403306Z",
     "shell.execute_reply.started": "2024-09-01T06:54:37.393715Z"
    }
   },
   "outputs": [],
   "source": [
    "x = np.arange(400).reshape(20,20)"
   ]
  },
  {
   "cell_type": "code",
   "execution_count": 4,
   "id": "fe9b509b-9fc9-4dbf-9b6a-3c0fd76bc149",
   "metadata": {
    "execution": {
     "iopub.execute_input": "2024-09-01T06:54:37.810286Z",
     "iopub.status.busy": "2024-09-01T06:54:37.809281Z",
     "iopub.status.idle": "2024-09-01T06:54:37.836291Z",
     "shell.execute_reply": "2024-09-01T06:54:37.834283Z",
     "shell.execute_reply.started": "2024-09-01T06:54:37.810286Z"
    }
   },
   "outputs": [],
   "source": [
    "@jit(nopython=True)\n",
    "def fast_trace(a): \n",
    "    trace = 0.0\n",
    "    for i in range(a.shape[0]):\n",
    "        trace += np.sin(a[i,i])\n",
    "    return trace"
   ]
  },
  {
   "cell_type": "code",
   "execution_count": 5,
   "id": "893fba07-d9b9-4f3d-b157-7b82642526ba",
   "metadata": {
    "execution": {
     "iopub.execute_input": "2024-09-01T06:54:38.452286Z",
     "iopub.status.busy": "2024-09-01T06:54:38.451283Z",
     "iopub.status.idle": "2024-09-01T06:54:39.538151Z",
     "shell.execute_reply": "2024-09-01T06:54:39.536157Z",
     "shell.execute_reply.started": "2024-09-01T06:54:38.452286Z"
    }
   },
   "outputs": [
    {
     "name": "stdout",
     "output_type": "stream",
     "text": [
      "The slowest run took 7.40 times longer than the fastest. This could mean that an intermediate result is being cached.\n",
      "4.3 µs ± 4.31 µs per loop (mean ± std. dev. of 7 runs, 1 loop each)\n"
     ]
    }
   ],
   "source": [
    "%timeit fast_trace(x)"
   ]
  },
  {
   "cell_type": "code",
   "execution_count": 6,
   "id": "232bd43a-c571-4517-8f06-5e95051b0952",
   "metadata": {
    "execution": {
     "iopub.execute_input": "2024-09-01T06:54:39.541176Z",
     "iopub.status.busy": "2024-09-01T06:54:39.540177Z",
     "iopub.status.idle": "2024-09-01T06:54:39.551584Z",
     "shell.execute_reply": "2024-09-01T06:54:39.549594Z",
     "shell.execute_reply.started": "2024-09-01T06:54:39.541176Z"
    }
   },
   "outputs": [],
   "source": [
    "def slow_trace(a):\n",
    "    trace = 0.0\n",
    "    for i in range(a.shape[0]):\n",
    "        trace += np.sin(a[i,i])\n",
    "    return trace"
   ]
  },
  {
   "cell_type": "code",
   "execution_count": 7,
   "id": "1a1308bb-a54c-4d64-a727-9a44ab1b09ca",
   "metadata": {
    "execution": {
     "iopub.execute_input": "2024-09-01T06:54:39.753971Z",
     "iopub.status.busy": "2024-09-01T06:54:39.752973Z",
     "iopub.status.idle": "2024-09-01T06:54:44.626997Z",
     "shell.execute_reply": "2024-09-01T06:54:44.624997Z",
     "shell.execute_reply.started": "2024-09-01T06:54:39.753971Z"
    }
   },
   "outputs": [
    {
     "name": "stdout",
     "output_type": "stream",
     "text": [
      "58.6 µs ± 258 ns per loop (mean ± std. dev. of 7 runs, 10,000 loops each)\n"
     ]
    }
   ],
   "source": [
    "%timeit slow_trace(x)"
   ]
  },
  {
   "cell_type": "code",
   "execution_count": null,
   "id": "76d4b678-c146-4457-9439-b56102066292",
   "metadata": {},
   "outputs": [],
   "source": []
  }
 ],
 "metadata": {
  "kernelspec": {
   "display_name": "Python 3 (ipykernel)",
   "language": "python",
   "name": "python3"
  },
  "language_info": {
   "codemirror_mode": {
    "name": "ipython",
    "version": 3
   },
   "file_extension": ".py",
   "mimetype": "text/x-python",
   "name": "python",
   "nbconvert_exporter": "python",
   "pygments_lexer": "ipython3",
   "version": "3.11.5"
  }
 },
 "nbformat": 4,
 "nbformat_minor": 5
}
