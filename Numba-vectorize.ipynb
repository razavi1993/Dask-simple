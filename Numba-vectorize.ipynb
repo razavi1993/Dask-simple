{
 "cells": [
  {
   "cell_type": "code",
   "execution_count": 1,
   "id": "c6ff45f3-62a8-45c3-b77e-9039467dcc14",
   "metadata": {
    "execution": {
     "iopub.execute_input": "2024-09-01T07:03:41.603085Z",
     "iopub.status.busy": "2024-09-01T07:03:41.602085Z",
     "iopub.status.idle": "2024-09-01T07:03:41.843156Z",
     "shell.execute_reply": "2024-09-01T07:03:41.842133Z",
     "shell.execute_reply.started": "2024-09-01T07:03:41.603085Z"
    }
   },
   "outputs": [],
   "source": [
    "import numpy as np"
   ]
  },
  {
   "cell_type": "code",
   "execution_count": 2,
   "id": "fc2899eb-a81b-4dac-8ee5-afc3ae957e43",
   "metadata": {
    "execution": {
     "iopub.execute_input": "2024-09-01T07:03:42.379902Z",
     "iopub.status.busy": "2024-09-01T07:03:42.378902Z",
     "iopub.status.idle": "2024-09-01T07:03:43.033931Z",
     "shell.execute_reply": "2024-09-01T07:03:43.032937Z",
     "shell.execute_reply.started": "2024-09-01T07:03:42.379902Z"
    }
   },
   "outputs": [],
   "source": [
    "from numba import vectorize, float32, float64"
   ]
  },
  {
   "cell_type": "code",
   "execution_count": 3,
   "id": "1b3c7106-658a-4e8f-88f4-06dc0567dce2",
   "metadata": {
    "execution": {
     "iopub.execute_input": "2024-09-01T07:03:43.037937Z",
     "iopub.status.busy": "2024-09-01T07:03:43.036934Z",
     "iopub.status.idle": "2024-09-01T07:03:44.169952Z",
     "shell.execute_reply": "2024-09-01T07:03:44.168929Z",
     "shell.execute_reply.started": "2024-09-01T07:03:43.037937Z"
    }
   },
   "outputs": [],
   "source": [
    "@vectorize([float32(float32, float32), float64(float64, float64)])\n",
    "def f(x, y):\n",
    "    return x + y"
   ]
  },
  {
   "cell_type": "code",
   "execution_count": 4,
   "id": "fb68718f-25b3-4160-a8d5-a053bba675a2",
   "metadata": {
    "execution": {
     "iopub.execute_input": "2024-09-01T07:03:44.173953Z",
     "iopub.status.busy": "2024-09-01T07:03:44.172927Z",
     "iopub.status.idle": "2024-09-01T07:03:44.192056Z",
     "shell.execute_reply": "2024-09-01T07:03:44.190058Z",
     "shell.execute_reply.started": "2024-09-01T07:03:44.173953Z"
    }
   },
   "outputs": [
    {
     "data": {
      "text/plain": [
       "array([0.93199185, 0.79430475, 0.46552297, 0.53830659, 0.41454096])"
      ]
     },
     "execution_count": 4,
     "metadata": {},
     "output_type": "execute_result"
    }
   ],
   "source": [
    "a = np.random.rand(5)\n",
    "a"
   ]
  },
  {
   "cell_type": "code",
   "execution_count": 5,
   "id": "215b62ad-11d3-4899-bd39-51ba135e50e0",
   "metadata": {
    "execution": {
     "iopub.execute_input": "2024-09-01T07:03:44.194059Z",
     "iopub.status.busy": "2024-09-01T07:03:44.194059Z",
     "iopub.status.idle": "2024-09-01T07:03:44.208604Z",
     "shell.execute_reply": "2024-09-01T07:03:44.206611Z",
     "shell.execute_reply.started": "2024-09-01T07:03:44.194059Z"
    }
   },
   "outputs": [
    {
     "data": {
      "text/plain": [
       "array([0.15642961, 0.77881834, 0.76113101, 0.75799226, 0.9130883 ])"
      ]
     },
     "execution_count": 5,
     "metadata": {},
     "output_type": "execute_result"
    }
   ],
   "source": [
    "b = np.random.rand(5)\n",
    "b"
   ]
  },
  {
   "cell_type": "code",
   "execution_count": 6,
   "id": "6cc17211-c64a-493b-8fef-3ec66a0d5167",
   "metadata": {
    "execution": {
     "iopub.execute_input": "2024-09-01T07:03:44.487516Z",
     "iopub.status.busy": "2024-09-01T07:03:44.486519Z",
     "iopub.status.idle": "2024-09-01T07:03:44.498784Z",
     "shell.execute_reply": "2024-09-01T07:03:44.496783Z",
     "shell.execute_reply.started": "2024-09-01T07:03:44.487516Z"
    }
   },
   "outputs": [
    {
     "data": {
      "text/plain": [
       "array([1.08842146, 1.57312309, 1.22665399, 1.29629884, 1.32762926])"
      ]
     },
     "execution_count": 6,
     "metadata": {},
     "output_type": "execute_result"
    }
   ],
   "source": [
    "f(a,b)"
   ]
  },
  {
   "cell_type": "code",
   "execution_count": 7,
   "id": "18cb5cc4-cbcf-49e7-9a29-ba3ae6852781",
   "metadata": {
    "execution": {
     "iopub.execute_input": "2024-09-01T07:03:45.029577Z",
     "iopub.status.busy": "2024-09-01T07:03:45.028578Z",
     "iopub.status.idle": "2024-09-01T07:03:45.042427Z",
     "shell.execute_reply": "2024-09-01T07:03:45.040421Z",
     "shell.execute_reply.started": "2024-09-01T07:03:45.029577Z"
    }
   },
   "outputs": [
    {
     "data": {
      "text/plain": [
       "array([0.954751  , 0.5709326 , 0.32670304, 0.5369359 , 0.8929944 ],\n",
       "      dtype=float32)"
      ]
     },
     "execution_count": 7,
     "metadata": {},
     "output_type": "execute_result"
    }
   ],
   "source": [
    "c = np.random.rand(5).astype(np.float32)\n",
    "c"
   ]
  },
  {
   "cell_type": "code",
   "execution_count": 8,
   "id": "c15646d0-2acf-4842-af5c-367242bd71ea",
   "metadata": {
    "execution": {
     "iopub.execute_input": "2024-09-01T07:03:45.482495Z",
     "iopub.status.busy": "2024-09-01T07:03:45.481496Z",
     "iopub.status.idle": "2024-09-01T07:03:45.495492Z",
     "shell.execute_reply": "2024-09-01T07:03:45.494494Z",
     "shell.execute_reply.started": "2024-09-01T07:03:45.482495Z"
    }
   },
   "outputs": [
    {
     "data": {
      "text/plain": [
       "array([0.609814  , 0.69907564, 0.9403815 , 0.84067124, 0.5056764 ],\n",
       "      dtype=float32)"
      ]
     },
     "execution_count": 8,
     "metadata": {},
     "output_type": "execute_result"
    }
   ],
   "source": [
    "d = np.random.rand(5).astype(np.float32)\n",
    "d"
   ]
  },
  {
   "cell_type": "code",
   "execution_count": 9,
   "id": "99d3337e-0399-4b70-90ba-07c5ca244ed9",
   "metadata": {
    "execution": {
     "iopub.execute_input": "2024-09-01T07:03:45.955372Z",
     "iopub.status.busy": "2024-09-01T07:03:45.953397Z",
     "iopub.status.idle": "2024-09-01T07:03:45.966583Z",
     "shell.execute_reply": "2024-09-01T07:03:45.964564Z",
     "shell.execute_reply.started": "2024-09-01T07:03:45.955372Z"
    }
   },
   "outputs": [
    {
     "data": {
      "text/plain": [
       "array([1.564565 , 1.2700083, 1.2670846, 1.3776071, 1.3986708],\n",
       "      dtype=float32)"
      ]
     },
     "execution_count": 9,
     "metadata": {},
     "output_type": "execute_result"
    }
   ],
   "source": [
    "f(c,d)"
   ]
  },
  {
   "cell_type": "code",
   "execution_count": null,
   "id": "aad7aa64-7e95-4b7a-8ba4-911f5d6b754d",
   "metadata": {},
   "outputs": [],
   "source": []
  }
 ],
 "metadata": {
  "kernelspec": {
   "display_name": "Python 3 (ipykernel)",
   "language": "python",
   "name": "python3"
  },
  "language_info": {
   "codemirror_mode": {
    "name": "ipython",
    "version": 3
   },
   "file_extension": ".py",
   "mimetype": "text/x-python",
   "name": "python",
   "nbconvert_exporter": "python",
   "pygments_lexer": "ipython3",
   "version": "3.11.5"
  }
 },
 "nbformat": 4,
 "nbformat_minor": 5
}
